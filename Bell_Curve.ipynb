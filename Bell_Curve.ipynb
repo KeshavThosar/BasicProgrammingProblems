{
  "nbformat": 4,
  "nbformat_minor": 0,
  "metadata": {
    "colab": {
      "name": "Bell Curve.ipynb",
      "provenance": [],
      "collapsed_sections": [],
      "authorship_tag": "ABX9TyMdk53JSKXdaxw3d3laE26P",
      "include_colab_link": true
    },
    "kernelspec": {
      "name": "python3",
      "display_name": "Python 3"
    },
    "language_info": {
      "name": "python"
    }
  },
  "cells": [
    {
      "cell_type": "markdown",
      "metadata": {
        "id": "view-in-github",
        "colab_type": "text"
      },
      "source": [
        "<a href=\"https://colab.research.google.com/github/KeshavThosar/BasicProgrammingProblems/blob/master/Bell_Curve.ipynb\" target=\"_parent\"><img src=\"https://colab.research.google.com/assets/colab-badge.svg\" alt=\"Open In Colab\"/></a>"
      ]
    },
    {
      "cell_type": "markdown",
      "metadata": {
        "id": "MhdLAdUpzQUE"
      },
      "source": [
        "## Assigment 2 Part 2 \n",
        "## Bell curve\n",
        "---\n",
        "Keshav Thosar  \n",
        "2019120065  \n",
        "EXTC\n",
        "\n",
        "---\n",
        "\n"
      ]
    },
    {
      "cell_type": "markdown",
      "metadata": {
        "id": "27dALSTGz9kO"
      },
      "source": [
        "**Aim:** To create a bell curve based on the grade distribution of the tests of both branches and compare the result.  \n",
        "**Procedure:** We would be using various python libraries for our assignment. We start by including them in the first cell."
      ]
    },
    {
      "cell_type": "code",
      "metadata": {
        "id": "kfJYKGv6aFJS"
      },
      "source": [
        "import pandas as pd\n",
        "from sklearn.preprocessing import StandardScaler\n",
        "from scipy.interpolate import make_interp_spline\n",
        "import matplotlib.pyplot as plt\n",
        "import numpy as np\n",
        "%matplotlib inline"
      ],
      "execution_count": 101,
      "outputs": []
    },
    {
      "cell_type": "markdown",
      "metadata": {
        "id": "OS-SnT772kjq"
      },
      "source": [
        "First we extract all the data from the csv files. The files were created from the data that was provided in the Excel sheets"
      ]
    },
    {
      "cell_type": "code",
      "metadata": {
        "colab": {
          "base_uri": "https://localhost:8080/",
          "height": 0
        },
        "id": "aGeibtVVaS--",
        "outputId": "a75abf04-329e-4c96-99bd-0f54b306c7a8"
      },
      "source": [
        "extc = pd.read_csv('extc.csv')\n",
        "etrx = pd.read_csv('etrx.csv')\n",
        "print('EXTC:\\n', extc['Grade'], '\\n')\n",
        "print('ETRX:\\n', etrx['Grade'], '\\n')"
      ],
      "execution_count": 102,
      "outputs": [
        {
          "output_type": "stream",
          "text": [
            "EXTC:\n",
            " 0     24.0\n",
            "1     24.5\n",
            "2     23.0\n",
            "3     11.0\n",
            "4     21.5\n",
            "      ... \n",
            "64    23.0\n",
            "65    25.5\n",
            "66    20.0\n",
            "67    21.5\n",
            "68    21.8\n",
            "Name: Grade, Length: 69, dtype: float64 \n",
            "\n",
            "ETRX:\n",
            " 0      5.5\n",
            "1     10.0\n",
            "2     11.0\n",
            "3     13.0\n",
            "4     13.0\n",
            "      ... \n",
            "72    27.0\n",
            "73    27.0\n",
            "74    27.5\n",
            "75    28.0\n",
            "76    30.0\n",
            "Name: Grade, Length: 77, dtype: float64 \n",
            "\n"
          ],
          "name": "stdout"
        }
      ]
    },
    {
      "cell_type": "markdown",
      "metadata": {
        "id": "vnUc0Htd23sA"
      },
      "source": [
        "# Scaling\n",
        "We use sklearn's StandardScaler class to normalize the values.   \n",
        "What we are essentially doing is for every *x* in the list we are scaling it as  \n",
        " *(x - u)/s*, where *u* is the mean and *s* is the standard deviation."
      ]
    },
    {
      "cell_type": "code",
      "metadata": {
        "colab": {
          "base_uri": "https://localhost:8080/",
          "height": 0
        },
        "id": "pFecStjQdnV7",
        "outputId": "0fa390c1-6574-40fa-9a46-b4bd8fad9f0f"
      },
      "source": [
        "standardScalar = StandardScaler()\n",
        "\n",
        "extc_normalized_grades = standardScalar.fit_transform(extc[['Grade']])\n",
        "extc_std, extc_mean = np.sqrt(standardScalar.var_), standardScalar.mean_\n",
        "print('EXTC \\nMean: {}\\nVariance: {}\\n---------------------'.format(standardScalar.mean_[0], standardScalar.var_[0]))\n",
        "\n",
        "etrx_normalized_grades = standardScalar.fit_transform(etrx[['Grade']])\n",
        "etrx_std, etrx_mean = np.sqrt(standardScalar.var_), standardScalar.mean_\n",
        "print('ETRX \\nMean: {}\\nVariance: {}\\n---------------------'.format(standardScalar.mean_[0], standardScalar.var_[0]))\n"
      ],
      "execution_count": 103,
      "outputs": [
        {
          "output_type": "stream",
          "text": [
            "EXTC \n",
            "Mean: 21.83768115942029\n",
            "Variance: 16.655391724427638\n",
            "---------------------\n",
            "ETRX \n",
            "Mean: 20.381818181818183\n",
            "Variance: 18.59655253837072\n",
            "---------------------\n"
          ],
          "name": "stdout"
        }
      ]
    },
    {
      "cell_type": "markdown",
      "metadata": {
        "id": "e4Z4h71225lL"
      },
      "source": [
        "# Getting the PDF values\n",
        "We put the normalised grades in the formula  \n",
        "$f(x) = \\frac{1}{\\sigma\\sqrt{2\\pi}} e^{-\\frac{1}{2}(\\frac{x-u}{\\sigma})^{2}}$\n",
        "\n",
        "To get the normal distribution values"
      ]
    },
    {
      "cell_type": "code",
      "metadata": {
        "id": "pzzKvJ5Wg2tu"
      },
      "source": [
        "extc_pdf_values = 1/(extc_std*np.sqrt(2*np.pi)) * np.exp(-0.5*((extc_normalized_grades)**2))\n",
        "etrx_pdf_values = 1/(etrx_std*np.sqrt(2*np.pi)) * np.exp(-0.5*((etrx_normalized_grades)**2))"
      ],
      "execution_count": 104,
      "outputs": []
    },
    {
      "cell_type": "markdown",
      "metadata": {
        "id": "GM_zKCwPSSmv"
      },
      "source": [
        "# Plotting\n",
        "Now that we have obtained all the values, we plot them as a scatter plot."
      ]
    },
    {
      "cell_type": "code",
      "metadata": {
        "colab": {
          "base_uri": "https://localhost:8080/",
          "height": 279
        },
        "id": "nK6_A-ECfPRd",
        "outputId": "a6d113eb-2dbc-4711-9db3-447620188a45"
      },
      "source": [
        "plt.scatter(extc['Grade'], extc_pdf_values)\n",
        "plt.scatter(etrx['Grade'], etrx_pdf_values)\n",
        "plt.legend(['EXTC', 'ETRX'])\n",
        "plt.ylabel('Probabilty Distribution')\n",
        "plt.xlabel('Grades')\n",
        "plt.show()"
      ],
      "execution_count": 105,
      "outputs": [
        {
          "output_type": "display_data",
          "data": {
            "image/png": "[encoded data removed]",
            "text/plain": [
              "<Figure size 432x288 with 1 Axes>"
            ]
          },
          "metadata": {
            "tags": [],
            "needs_background": "light"
          }
        }
      ]
    },
    {
      "cell_type": "markdown",
      "metadata": {
        "id": "LX72X8jC3AeH"
      },
      "source": [
        "**Observation:** \n",
        "\n",
        "|Branch| Mean | Variance |\n",
        "---|-------|-----------\n",
        "|EXTC |21.83768115942029| 16.655391724427638|\n",
        "|ETRX |20.381818181818183|18.59655253837072|  \n",
        "\n",
        "- A general conclusion could be that the average marks of\n",
        "the EXTC department is higher than that of ETRX. \n",
        "- Furthermore, by comparing the value of variance, it was observed that the marks\n",
        "were spaced out more about the average in case of EXTC.\n",
        "\n",
        "**Conclusion:**  \n",
        "With this assignment, we were able to successfully convert the grade sheets of two branches into a normal distribution. We used sklearn, numpy, pandas, scipy and malplotlib to aid us in finding the desired values and achieving the desired results."
      ]
    }
  ]
}